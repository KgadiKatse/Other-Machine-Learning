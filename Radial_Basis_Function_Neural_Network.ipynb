{
  "nbformat": 4,
  "nbformat_minor": 0,
  "metadata": {
    "colab": {
      "provenance": [],
      "authorship_tag": "ABX9TyOwWXaWs8DnfxdHXyFU6XhC",
      "include_colab_link": true
    },
    "kernelspec": {
      "name": "python3",
      "display_name": "Python 3"
    },
    "language_info": {
      "name": "python"
    }
  },
  "cells": [
    {
      "cell_type": "markdown",
      "metadata": {
        "id": "view-in-github",
        "colab_type": "text"
      },
      "source": [
        "<a href=\"https://colab.research.google.com/github/KgadiKatse/Other-Machine-Learning/blob/main/Radial_Basis_Function_Neural_Network.ipynb\" target=\"_parent\"><img src=\"https://colab.research.google.com/assets/colab-badge.svg\" alt=\"Open In Colab\"/></a>"
      ]
    },
    {
      "cell_type": "code",
      "execution_count": null,
      "metadata": {
        "id": "W72uSzRTj6xn"
      },
      "outputs": [],
      "source": [
        "import numpy as np\n",
        "import pandas as pd\n",
        "import missingno as msno\n",
        "import os\n",
        "import math\n",
        "from collections import Counter\n",
        "from sklearn import preprocessing\n",
        "\n",
        "# identify outliers with interquartile range\n",
        "from numpy.random import seed\n",
        "from numpy.random import randn\n",
        "from numpy import percentile\n",
        "\n",
        "# Metrics\n",
        "from sklearn.metrics import accuracy_score\n",
        "from sklearn.metrics import precision_score\n",
        "from sklearn.metrics import recall_score\n",
        "from sklearn.metrics import f1_score\n",
        "from sklearn.metrics import classification_report\n",
        "from sklearn.metrics import confusion_matrix\n",
        "from sklearn.preprocessing import LabelEncoder\n",
        "from sklearn.cluster import KMeans\n",
        "\n",
        "# Visualisation\n",
        "import seaborn as sns\n",
        "import plotly.express as px\n",
        "import matplotlib.pyplot as plt\n",
        "%matplotlib inline\n",
        "\n",
        "# For Filtering the warnings\n",
        "import warnings\n",
        "warnings.filterwarnings('ignore')"
      ]
    },
    {
      "cell_type": "code",
      "source": [
        "from google.colab import drive\n",
        "drive.mount('/content/drive')"
      ],
      "metadata": {
        "colab": {
          "base_uri": "https://localhost:8080/"
        },
        "id": "Fog20m2gkXfr",
        "outputId": "b51c7960-8047-4bb0-9453-e80a8fbce689"
      },
      "execution_count": null,
      "outputs": [
        {
          "output_type": "stream",
          "name": "stdout",
          "text": [
            "Mounted at /content/drive\n"
          ]
        }
      ]
    },
    {
      "cell_type": "code",
      "source": [
        "# load the dataset with pandas read_csv function\n",
        "RBFN_df = pd.read_csv('/content/drive/My Drive/Colab Notebooks/applied machine learning/RBFN_train.csv')"
      ],
      "metadata": {
        "id": "R4ZFpNF_kb8A"
      },
      "execution_count": null,
      "outputs": []
    },
    {
      "cell_type": "code",
      "source": [
        "RBFN_df.head(5)"
      ],
      "metadata": {
        "colab": {
          "base_uri": "https://localhost:8080/",
          "height": 206
        },
        "id": "zg9Nb60Bk4nF",
        "outputId": "a88d64d5-3d5f-48d1-fc9b-198781b0982c"
      },
      "execution_count": null,
      "outputs": [
        {
          "output_type": "execute_result",
          "data": {
            "text/plain": [
              "     X1    X2  Y\n",
              "0  0.11  0.60  1\n",
              "1  0.09  0.65  1\n",
              "2  0.10  0.71  1\n",
              "3  0.16  0.78  1\n",
              "4  0.21  0.87  1"
            ],
            "text/html": [
              "\n",
              "  <div id=\"df-c65f54f9-5529-40d0-b511-fed4007522d4\">\n",
              "    <div class=\"colab-df-container\">\n",
              "      <div>\n",
              "<style scoped>\n",
              "    .dataframe tbody tr th:only-of-type {\n",
              "        vertical-align: middle;\n",
              "    }\n",
              "\n",
              "    .dataframe tbody tr th {\n",
              "        vertical-align: top;\n",
              "    }\n",
              "\n",
              "    .dataframe thead th {\n",
              "        text-align: right;\n",
              "    }\n",
              "</style>\n",
              "<table border=\"1\" class=\"dataframe\">\n",
              "  <thead>\n",
              "    <tr style=\"text-align: right;\">\n",
              "      <th></th>\n",
              "      <th>X1</th>\n",
              "      <th>X2</th>\n",
              "      <th>Y</th>\n",
              "    </tr>\n",
              "  </thead>\n",
              "  <tbody>\n",
              "    <tr>\n",
              "      <th>0</th>\n",
              "      <td>0.11</td>\n",
              "      <td>0.60</td>\n",
              "      <td>1</td>\n",
              "    </tr>\n",
              "    <tr>\n",
              "      <th>1</th>\n",
              "      <td>0.09</td>\n",
              "      <td>0.65</td>\n",
              "      <td>1</td>\n",
              "    </tr>\n",
              "    <tr>\n",
              "      <th>2</th>\n",
              "      <td>0.10</td>\n",
              "      <td>0.71</td>\n",
              "      <td>1</td>\n",
              "    </tr>\n",
              "    <tr>\n",
              "      <th>3</th>\n",
              "      <td>0.16</td>\n",
              "      <td>0.78</td>\n",
              "      <td>1</td>\n",
              "    </tr>\n",
              "    <tr>\n",
              "      <th>4</th>\n",
              "      <td>0.21</td>\n",
              "      <td>0.87</td>\n",
              "      <td>1</td>\n",
              "    </tr>\n",
              "  </tbody>\n",
              "</table>\n",
              "</div>\n",
              "      <button class=\"colab-df-convert\" onclick=\"convertToInteractive('df-c65f54f9-5529-40d0-b511-fed4007522d4')\"\n",
              "              title=\"Convert this dataframe to an interactive table.\"\n",
              "              style=\"display:none;\">\n",
              "        \n",
              "  <svg xmlns=\"http://www.w3.org/2000/svg\" height=\"24px\"viewBox=\"0 0 24 24\"\n",
              "       width=\"24px\">\n",
              "    <path d=\"M0 0h24v24H0V0z\" fill=\"none\"/>\n",
              "    <path d=\"M18.56 5.44l.94 2.06.94-2.06 2.06-.94-2.06-.94-.94-2.06-.94 2.06-2.06.94zm-11 1L8.5 8.5l.94-2.06 2.06-.94-2.06-.94L8.5 2.5l-.94 2.06-2.06.94zm10 10l.94 2.06.94-2.06 2.06-.94-2.06-.94-.94-2.06-.94 2.06-2.06.94z\"/><path d=\"M17.41 7.96l-1.37-1.37c-.4-.4-.92-.59-1.43-.59-.52 0-1.04.2-1.43.59L10.3 9.45l-7.72 7.72c-.78.78-.78 2.05 0 2.83L4 21.41c.39.39.9.59 1.41.59.51 0 1.02-.2 1.41-.59l7.78-7.78 2.81-2.81c.8-.78.8-2.07 0-2.86zM5.41 20L4 18.59l7.72-7.72 1.47 1.35L5.41 20z\"/>\n",
              "  </svg>\n",
              "      </button>\n",
              "      \n",
              "  <style>\n",
              "    .colab-df-container {\n",
              "      display:flex;\n",
              "      flex-wrap:wrap;\n",
              "      gap: 12px;\n",
              "    }\n",
              "\n",
              "    .colab-df-convert {\n",
              "      background-color: #E8F0FE;\n",
              "      border: none;\n",
              "      border-radius: 50%;\n",
              "      cursor: pointer;\n",
              "      display: none;\n",
              "      fill: #1967D2;\n",
              "      height: 32px;\n",
              "      padding: 0 0 0 0;\n",
              "      width: 32px;\n",
              "    }\n",
              "\n",
              "    .colab-df-convert:hover {\n",
              "      background-color: #E2EBFA;\n",
              "      box-shadow: 0px 1px 2px rgba(60, 64, 67, 0.3), 0px 1px 3px 1px rgba(60, 64, 67, 0.15);\n",
              "      fill: #174EA6;\n",
              "    }\n",
              "\n",
              "    [theme=dark] .colab-df-convert {\n",
              "      background-color: #3B4455;\n",
              "      fill: #D2E3FC;\n",
              "    }\n",
              "\n",
              "    [theme=dark] .colab-df-convert:hover {\n",
              "      background-color: #434B5C;\n",
              "      box-shadow: 0px 1px 3px 1px rgba(0, 0, 0, 0.15);\n",
              "      filter: drop-shadow(0px 1px 2px rgba(0, 0, 0, 0.3));\n",
              "      fill: #FFFFFF;\n",
              "    }\n",
              "  </style>\n",
              "\n",
              "      <script>\n",
              "        const buttonEl =\n",
              "          document.querySelector('#df-c65f54f9-5529-40d0-b511-fed4007522d4 button.colab-df-convert');\n",
              "        buttonEl.style.display =\n",
              "          google.colab.kernel.accessAllowed ? 'block' : 'none';\n",
              "\n",
              "        async function convertToInteractive(key) {\n",
              "          const element = document.querySelector('#df-c65f54f9-5529-40d0-b511-fed4007522d4');\n",
              "          const dataTable =\n",
              "            await google.colab.kernel.invokeFunction('convertToInteractive',\n",
              "                                                     [key], {});\n",
              "          if (!dataTable) return;\n",
              "\n",
              "          const docLinkHtml = 'Like what you see? Visit the ' +\n",
              "            '<a target=\"_blank\" href=https://colab.research.google.com/notebooks/data_table.ipynb>data table notebook</a>'\n",
              "            + ' to learn more about interactive tables.';\n",
              "          element.innerHTML = '';\n",
              "          dataTable['output_type'] = 'display_data';\n",
              "          await google.colab.output.renderOutput(dataTable, element);\n",
              "          const docLink = document.createElement('div');\n",
              "          docLink.innerHTML = docLinkHtml;\n",
              "          element.appendChild(docLink);\n",
              "        }\n",
              "      </script>\n",
              "    </div>\n",
              "  </div>\n",
              "  "
            ]
          },
          "metadata": {},
          "execution_count": 4
        }
      ]
    },
    {
      "cell_type": "code",
      "source": [
        "RBFN_df.info()"
      ],
      "metadata": {
        "colab": {
          "base_uri": "https://localhost:8080/"
        },
        "id": "j1KotMPllGXl",
        "outputId": "a21fff0d-df8b-4ff8-af8d-02505e128dfa"
      },
      "execution_count": null,
      "outputs": [
        {
          "output_type": "stream",
          "name": "stdout",
          "text": [
            "<class 'pandas.core.frame.DataFrame'>\n",
            "RangeIndex: 863 entries, 0 to 862\n",
            "Data columns (total 3 columns):\n",
            " #   Column  Non-Null Count  Dtype  \n",
            "---  ------  --------------  -----  \n",
            " 0   X1      863 non-null    float64\n",
            " 1   X2      863 non-null    float64\n",
            " 2   Y       863 non-null    int64  \n",
            "dtypes: float64(2), int64(1)\n",
            "memory usage: 20.4 KB\n"
          ]
        }
      ]
    },
    {
      "cell_type": "code",
      "source": [
        "RBFN_df.describe(include=\"all\").transpose()"
      ],
      "metadata": {
        "colab": {
          "base_uri": "https://localhost:8080/",
          "height": 143
        },
        "id": "vRT_6OB1lGT5",
        "outputId": "46a3a09d-f300-43e8-9180-f368850d3106"
      },
      "execution_count": null,
      "outputs": [
        {
          "output_type": "execute_result",
          "data": {
            "text/plain": [
              "    count      mean       std   min   25%   50%   75%   max\n",
              "X1  863.0  0.503268  0.255222  0.04  0.29  0.51  0.70  1.00\n",
              "X2  863.0  0.694403  0.158761  0.40  0.56  0.69  0.83  0.99\n",
              "Y   863.0  0.556199  0.497120  0.00  0.00  1.00  1.00  1.00"
            ],
            "text/html": [
              "\n",
              "  <div id=\"df-a1da8d83-310f-4b56-8cc1-16d6af3d57e0\">\n",
              "    <div class=\"colab-df-container\">\n",
              "      <div>\n",
              "<style scoped>\n",
              "    .dataframe tbody tr th:only-of-type {\n",
              "        vertical-align: middle;\n",
              "    }\n",
              "\n",
              "    .dataframe tbody tr th {\n",
              "        vertical-align: top;\n",
              "    }\n",
              "\n",
              "    .dataframe thead th {\n",
              "        text-align: right;\n",
              "    }\n",
              "</style>\n",
              "<table border=\"1\" class=\"dataframe\">\n",
              "  <thead>\n",
              "    <tr style=\"text-align: right;\">\n",
              "      <th></th>\n",
              "      <th>count</th>\n",
              "      <th>mean</th>\n",
              "      <th>std</th>\n",
              "      <th>min</th>\n",
              "      <th>25%</th>\n",
              "      <th>50%</th>\n",
              "      <th>75%</th>\n",
              "      <th>max</th>\n",
              "    </tr>\n",
              "  </thead>\n",
              "  <tbody>\n",
              "    <tr>\n",
              "      <th>X1</th>\n",
              "      <td>863.0</td>\n",
              "      <td>0.503268</td>\n",
              "      <td>0.255222</td>\n",
              "      <td>0.04</td>\n",
              "      <td>0.29</td>\n",
              "      <td>0.51</td>\n",
              "      <td>0.70</td>\n",
              "      <td>1.00</td>\n",
              "    </tr>\n",
              "    <tr>\n",
              "      <th>X2</th>\n",
              "      <td>863.0</td>\n",
              "      <td>0.694403</td>\n",
              "      <td>0.158761</td>\n",
              "      <td>0.40</td>\n",
              "      <td>0.56</td>\n",
              "      <td>0.69</td>\n",
              "      <td>0.83</td>\n",
              "      <td>0.99</td>\n",
              "    </tr>\n",
              "    <tr>\n",
              "      <th>Y</th>\n",
              "      <td>863.0</td>\n",
              "      <td>0.556199</td>\n",
              "      <td>0.497120</td>\n",
              "      <td>0.00</td>\n",
              "      <td>0.00</td>\n",
              "      <td>1.00</td>\n",
              "      <td>1.00</td>\n",
              "      <td>1.00</td>\n",
              "    </tr>\n",
              "  </tbody>\n",
              "</table>\n",
              "</div>\n",
              "      <button class=\"colab-df-convert\" onclick=\"convertToInteractive('df-a1da8d83-310f-4b56-8cc1-16d6af3d57e0')\"\n",
              "              title=\"Convert this dataframe to an interactive table.\"\n",
              "              style=\"display:none;\">\n",
              "        \n",
              "  <svg xmlns=\"http://www.w3.org/2000/svg\" height=\"24px\"viewBox=\"0 0 24 24\"\n",
              "       width=\"24px\">\n",
              "    <path d=\"M0 0h24v24H0V0z\" fill=\"none\"/>\n",
              "    <path d=\"M18.56 5.44l.94 2.06.94-2.06 2.06-.94-2.06-.94-.94-2.06-.94 2.06-2.06.94zm-11 1L8.5 8.5l.94-2.06 2.06-.94-2.06-.94L8.5 2.5l-.94 2.06-2.06.94zm10 10l.94 2.06.94-2.06 2.06-.94-2.06-.94-.94-2.06-.94 2.06-2.06.94z\"/><path d=\"M17.41 7.96l-1.37-1.37c-.4-.4-.92-.59-1.43-.59-.52 0-1.04.2-1.43.59L10.3 9.45l-7.72 7.72c-.78.78-.78 2.05 0 2.83L4 21.41c.39.39.9.59 1.41.59.51 0 1.02-.2 1.41-.59l7.78-7.78 2.81-2.81c.8-.78.8-2.07 0-2.86zM5.41 20L4 18.59l7.72-7.72 1.47 1.35L5.41 20z\"/>\n",
              "  </svg>\n",
              "      </button>\n",
              "      \n",
              "  <style>\n",
              "    .colab-df-container {\n",
              "      display:flex;\n",
              "      flex-wrap:wrap;\n",
              "      gap: 12px;\n",
              "    }\n",
              "\n",
              "    .colab-df-convert {\n",
              "      background-color: #E8F0FE;\n",
              "      border: none;\n",
              "      border-radius: 50%;\n",
              "      cursor: pointer;\n",
              "      display: none;\n",
              "      fill: #1967D2;\n",
              "      height: 32px;\n",
              "      padding: 0 0 0 0;\n",
              "      width: 32px;\n",
              "    }\n",
              "\n",
              "    .colab-df-convert:hover {\n",
              "      background-color: #E2EBFA;\n",
              "      box-shadow: 0px 1px 2px rgba(60, 64, 67, 0.3), 0px 1px 3px 1px rgba(60, 64, 67, 0.15);\n",
              "      fill: #174EA6;\n",
              "    }\n",
              "\n",
              "    [theme=dark] .colab-df-convert {\n",
              "      background-color: #3B4455;\n",
              "      fill: #D2E3FC;\n",
              "    }\n",
              "\n",
              "    [theme=dark] .colab-df-convert:hover {\n",
              "      background-color: #434B5C;\n",
              "      box-shadow: 0px 1px 3px 1px rgba(0, 0, 0, 0.15);\n",
              "      filter: drop-shadow(0px 1px 2px rgba(0, 0, 0, 0.3));\n",
              "      fill: #FFFFFF;\n",
              "    }\n",
              "  </style>\n",
              "\n",
              "      <script>\n",
              "        const buttonEl =\n",
              "          document.querySelector('#df-a1da8d83-310f-4b56-8cc1-16d6af3d57e0 button.colab-df-convert');\n",
              "        buttonEl.style.display =\n",
              "          google.colab.kernel.accessAllowed ? 'block' : 'none';\n",
              "\n",
              "        async function convertToInteractive(key) {\n",
              "          const element = document.querySelector('#df-a1da8d83-310f-4b56-8cc1-16d6af3d57e0');\n",
              "          const dataTable =\n",
              "            await google.colab.kernel.invokeFunction('convertToInteractive',\n",
              "                                                     [key], {});\n",
              "          if (!dataTable) return;\n",
              "\n",
              "          const docLinkHtml = 'Like what you see? Visit the ' +\n",
              "            '<a target=\"_blank\" href=https://colab.research.google.com/notebooks/data_table.ipynb>data table notebook</a>'\n",
              "            + ' to learn more about interactive tables.';\n",
              "          element.innerHTML = '';\n",
              "          dataTable['output_type'] = 'display_data';\n",
              "          await google.colab.output.renderOutput(dataTable, element);\n",
              "          const docLink = document.createElement('div');\n",
              "          docLink.innerHTML = docLinkHtml;\n",
              "          element.appendChild(docLink);\n",
              "        }\n",
              "      </script>\n",
              "    </div>\n",
              "  </div>\n",
              "  "
            ]
          },
          "metadata": {},
          "execution_count": 30
        }
      ]
    },
    {
      "cell_type": "code",
      "source": [
        "# Percentage of missing data per column\n",
        "(RBFN_df.isnull().sum() / RBFN_df.shape[0] * 100.00).round(2)"
      ],
      "metadata": {
        "colab": {
          "base_uri": "https://localhost:8080/"
        },
        "id": "bKo5QcL2lGM2",
        "outputId": "a6eab03f-031d-475f-e38f-eb8bbc044cbd"
      },
      "execution_count": null,
      "outputs": [
        {
          "output_type": "execute_result",
          "data": {
            "text/plain": [
              "X1    0.0\n",
              "X2    0.0\n",
              "Y     0.0\n",
              "dtype: float64"
            ]
          },
          "metadata": {},
          "execution_count": 29
        }
      ]
    },
    {
      "cell_type": "code",
      "source": [
        "RBFN_df['X1'].fillna(value = RBFN_df['X1'].mean(), inplace=True)\n",
        "RBFN_df['X2'].fillna(value = RBFN_df['X2'].mean(), inplace=True)"
      ],
      "metadata": {
        "id": "hYHTk_YvESns"
      },
      "execution_count": null,
      "outputs": []
    },
    {
      "cell_type": "code",
      "source": [
        "# TESTING DATA SET\n",
        "\n",
        "labels = ['0', '1']\n",
        "\n",
        "MAP={}\n",
        "for e, i in enumerate(sorted(RBFN_df['Y'].unique())):\n",
        "    MAP[i]=labels[e]\n",
        "#MAP={0:'Not-Survived',1:'Survived'}\n",
        "df1t = RBFN_df.copy()\n",
        "df1t['Y']=df1t['Y'].map(MAP)\n",
        "explode=np.zeros(len(labels))\n",
        "explode[-1]=0.1\n",
        "print('\\033[1mThe Target: Y\\nVariable Distribution in the data'.center(55))\n",
        "plt.pie(df1t['Y'].value_counts(), labels=df1t['Y'].value_counts().index, counterclock=False, shadow=True,\n",
        "        explode=explode, autopct='%1.1f%%', radius=1, startangle=0)\n",
        "plt.show()"
      ],
      "metadata": {
        "colab": {
          "base_uri": "https://localhost:8080/",
          "height": 285
        },
        "id": "GXRC7eVEnDLq",
        "outputId": "2dbba59f-16fe-4013-da9b-8bcdbdc538e8"
      },
      "execution_count": null,
      "outputs": [
        {
          "output_type": "stream",
          "name": "stdout",
          "text": [
            "  \u001b[1mThe Target: Y\n",
            "Variable Distribution in the data  \n"
          ]
        },
        {
          "output_type": "display_data",
          "data": {
            "text/plain": [
              "<Figure size 432x288 with 1 Axes>"
            ],
            "image/png": "[encoded data removed]"
          },
          "metadata": {}
        }
      ]
    },
    {
      "cell_type": "code",
      "source": [
        "sns.countplot(x = \"Y\", data=RBFN_df)"
      ],
      "metadata": {
        "colab": {
          "base_uri": "https://localhost:8080/",
          "height": 300
        },
        "id": "tO6D3lxhnfsc",
        "outputId": "9fe684f7-7af7-4bd4-a4b8-a763da856955"
      },
      "execution_count": null,
      "outputs": [
        {
          "output_type": "execute_result",
          "data": {
            "text/plain": [
              "<matplotlib.axes._subplots.AxesSubplot at 0x7f93979f90d0>"
            ]
          },
          "metadata": {},
          "execution_count": 32
        },
        {
          "output_type": "display_data",
          "data": {
            "text/plain": [
              "<Figure size 432x288 with 1 Axes>"
            ],
            "image/png": "[encoded data removed]"
          },
          "metadata": {
            "needs_background": "light"
          }
        }
      ]
    },
    {
      "cell_type": "markdown",
      "source": [
        "Outliers"
      ],
      "metadata": {
        "id": "3SDGajER31yv"
      }
    },
    {
      "cell_type": "code",
      "source": [
        "# seed the random number generator\n",
        "seed(1)\n",
        "# calculate interquartile range\n",
        "x1_q25, x1_q75 = percentile(RBFN_df['X1'], 25), percentile(RBFN_df['X1'], 75)\n",
        "x1_iqr = x1_q75 - x1_q25\n",
        "print('Percentiles: 25th=%.3f, 75th=%.3f, IQR=%.3f' % (x1_q25, x1_q75, x1_iqr))\n",
        "# calculate the outlier cutoff\n",
        "cut_off = x1_iqr * 1.5\n",
        "lower, upper = x1_q25 - cut_off, x1_q75 + cut_off\n",
        "# identify outliers\n",
        "outliers = [x for x in RBFN_df['X1'] if x < lower or x > upper]\n",
        "print('Identified outliers in X1: %d' % len(outliers))\n",
        "# remove outliers\n",
        "outliers_removed = [x for x in RBFN_df['X1'] if x >= lower and x <= upper]\n",
        "print('Non-outlier observations in X1: %d' % len(outliers_removed))"
      ],
      "metadata": {
        "colab": {
          "base_uri": "https://localhost:8080/"
        },
        "id": "RkcxGRxO33nm",
        "outputId": "87202086-60c1-4daf-9895-bf94ca527587"
      },
      "execution_count": null,
      "outputs": [
        {
          "output_type": "stream",
          "name": "stdout",
          "text": [
            "Percentiles: 25th=0.290, 75th=0.700, IQR=0.410\n",
            "Identified outliers in X1: 0\n",
            "Non-outlier observations in X1: 863\n"
          ]
        }
      ]
    },
    {
      "cell_type": "code",
      "source": [
        "# seed the random number generator\n",
        "seed(1)\n",
        "# calculate interquartile range\n",
        "x2_q25, x2_q75 = percentile(RBFN_df['X2'], 25), percentile(RBFN_df['X2'], 75)\n",
        "x2_iqr = x2_q75 - x2_q25\n",
        "print('Percentiles: 25th=%.3f, 75th=%.3f, IQR=%.3f' % (x2_q25, x2_q75, x2_iqr))\n",
        "# calculate the outlier cutoff\n",
        "cut_off = x2_q25 * 1.5\n",
        "lower, upper = x2_q25 - cut_off, x2_q75 + cut_off\n",
        "# identify outliers\n",
        "outliers = [x for x in RBFN_df['X2'] if x < lower or x > upper]\n",
        "print('Identified outliers in X2: %d' % len(outliers))\n",
        "# remove outliers\n",
        "outliers_removed = [x for x in RBFN_df['X2'] if x >= lower and x <= upper]\n",
        "print('Non-outlier observations in X2: %d' % len(outliers_removed))"
      ],
      "metadata": {
        "colab": {
          "base_uri": "https://localhost:8080/"
        },
        "id": "ioSEwA_q34mG",
        "outputId": "7b747fc5-8a93-481f-d139-90f197ab0779"
      },
      "execution_count": null,
      "outputs": [
        {
          "output_type": "stream",
          "name": "stdout",
          "text": [
            "Percentiles: 25th=0.560, 75th=0.830, IQR=0.270\n",
            "Identified outliers in X2: 0\n",
            "Non-outlier observations in X2: 863\n"
          ]
        }
      ]
    },
    {
      "cell_type": "markdown",
      "source": [
        "Split data"
      ],
      "metadata": {
        "id": "f8rNi3xS5fd-"
      }
    },
    {
      "cell_type": "code",
      "source": [
        "# split the descriptive features from the target feature\n",
        "RBFN_x = RBFN_df.drop(['Y'], axis=1)\n",
        "RBFN_y = RBFN_df['Y']"
      ],
      "metadata": {
        "id": "eCAdzq6l5GnQ"
      },
      "execution_count": null,
      "outputs": []
    },
    {
      "cell_type": "code",
      "source": [],
      "metadata": {
        "id": "70cfLTZh5BNR"
      },
      "execution_count": null,
      "outputs": []
    },
    {
      "cell_type": "code",
      "source": [
        "# k-means to find centers\n",
        "K_cent = 13\n",
        "km = KMeans(n_clusters= K_cent, max_iter= 100)\n",
        "km.fit(RBFN_x)\n",
        "cent = km.cluster_centers_"
      ],
      "metadata": {
        "id": "yxuLHf7_-JgT"
      },
      "execution_count": null,
      "outputs": []
    },
    {
      "cell_type": "code",
      "source": [
        "max = 0\n",
        "for i in range(K_cent):\n",
        "\tfor j in range(K_cent):\n",
        "\t\td= np.linalg.norm(cent[i]-cent[j])\n",
        "\t\tif(d > max):\n",
        "\t\t\tmax = d\n",
        "d = max\n",
        "\n",
        "sigma = d/math.sqrt(2*K_cent)"
      ],
      "metadata": {
        "id": "c4kepyTP-KKv"
      },
      "execution_count": null,
      "outputs": []
    },
    {
      "cell_type": "code",
      "source": [
        "cent"
      ],
      "metadata": {
        "colab": {
          "base_uri": "https://localhost:8080/"
        },
        "id": "godVGKNsKFRD",
        "outputId": "5b06b82a-d023-46cc-cca4-925f453b34c0"
      },
      "execution_count": null,
      "outputs": [
        {
          "output_type": "execute_result",
          "data": {
            "text/plain": [
              "array([[0.58822785, 0.5143038 ],\n",
              "       [0.29428571, 0.70328571],\n",
              "       [0.82716667, 0.8315    ],\n",
              "       [0.93951613, 0.52677419],\n",
              "       [0.6436    , 0.87826667],\n",
              "       [0.15461538, 0.55782051],\n",
              "       [0.2942623 , 0.87967213],\n",
              "       [0.77978723, 0.50553191],\n",
              "       [0.47864407, 0.67372881],\n",
              "       [0.69071429, 0.69404762],\n",
              "       [0.46746032, 0.89492063],\n",
              "       [0.40571429, 0.49183673],\n",
              "       [0.11644737, 0.80960526]])"
            ]
          },
          "metadata": {},
          "execution_count": 9
        }
      ]
    },
    {
      "cell_type": "code",
      "source": [
        "shape = RBFN_x.shape\n",
        "row = shape[0]\n",
        "column = K_cent\n",
        "G = np.empty((row,column), dtype= float)"
      ],
      "metadata": {
        "id": "JNfVI-pS-KHH"
      },
      "execution_count": null,
      "outputs": []
    },
    {
      "cell_type": "code",
      "source": [
        "RBFN_x = RBFN_x.to_numpy()"
      ],
      "metadata": {
        "id": "_T_23DVCK5Ek"
      },
      "execution_count": null,
      "outputs": []
    },
    {
      "cell_type": "code",
      "source": [
        "for i in range(row):\n",
        "  for j in range(column):\n",
        "    dist = np.linalg.norm(RBFN_x[i]-cent[j])\n",
        "    G[i][j] = math.exp(-math.pow(dist,2)/math.pow(2*sigma,2))"
      ],
      "metadata": {
        "id": "p4EuLTe9Aybz"
      },
      "execution_count": null,
      "outputs": []
    },
    {
      "cell_type": "code",
      "source": [
        "GTG = np.dot(G.T,G)\n",
        "GTG_inv = np.linalg.inv(GTG)\n",
        "fac = np.dot(GTG_inv,G.T)\n",
        "W = np.dot(fac, RBFN_y)"
      ],
      "metadata": {
        "id": "C6dQEcztAyXG"
      },
      "execution_count": null,
      "outputs": []
    },
    {
      "cell_type": "code",
      "source": [
        "prediction = np.dot(G,W)\n",
        "prediction = 0.5*(np.sign(prediction-0.5)+1) # revisit\n",
        "\n",
        "score = accuracy_score(prediction,RBFN_y)\n",
        "print('Accuracy Score on train data:')\n",
        "print(score.mean())"
      ],
      "metadata": {
        "colab": {
          "base_uri": "https://localhost:8080/"
        },
        "id": "him92_uaAyTh",
        "outputId": "1cded97f-8781-425c-a538-0053d0e42668"
      },
      "execution_count": null,
      "outputs": [
        {
          "output_type": "stream",
          "name": "stdout",
          "text": [
            "Accuracy Score on train data:\n",
            "0.8632676709154113\n"
          ]
        }
      ]
    },
    {
      "cell_type": "code",
      "source": [
        "print('Confusion Matrix:')\n",
        "print(confusion_matrix(RBFN_y, prediction))\n",
        "\n",
        "print('\\nClassification Report:')\n",
        "print(classification_report(RBFN_y, prediction))\n"
      ],
      "metadata": {
        "colab": {
          "base_uri": "https://localhost:8080/"
        },
        "id": "x6-MnK_5McHi",
        "outputId": "3c55843a-9e12-4d53-a9fc-7936bf320542"
      },
      "execution_count": null,
      "outputs": [
        {
          "output_type": "stream",
          "name": "stdout",
          "text": [
            "Confusion Matrix:\n",
            "[[335  48]\n",
            " [ 70 410]]\n",
            "\n",
            "Classification Report:\n",
            "              precision    recall  f1-score   support\n",
            "\n",
            "           0       0.83      0.87      0.85       383\n",
            "           1       0.90      0.85      0.87       480\n",
            "\n",
            "    accuracy                           0.86       863\n",
            "   macro avg       0.86      0.86      0.86       863\n",
            "weighted avg       0.87      0.86      0.86       863\n",
            "\n"
          ]
        }
      ]
    },
    {
      "cell_type": "code",
      "source": [],
      "metadata": {
        "id": "5tj4Ozo9AyPO"
      },
      "execution_count": null,
      "outputs": []
    }
  ]
}