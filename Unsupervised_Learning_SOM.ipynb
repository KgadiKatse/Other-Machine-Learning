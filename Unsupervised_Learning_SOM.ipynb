{
  "nbformat": 4,
  "nbformat_minor": 0,
  "metadata": {
    "colab": {
      "provenance": [],
      "authorship_tag": "ABX9TyO9P+1izO10W0AJzp1fhWXM",
      "include_colab_link": true
    },
    "kernelspec": {
      "name": "python3",
      "display_name": "Python 3"
    },
    "language_info": {
      "name": "python"
    }
  },
  "cells": [
    {
      "cell_type": "markdown",
      "metadata": {
        "id": "view-in-github",
        "colab_type": "text"
      },
      "source": [
        "<a href=\"https://colab.research.google.com/github/KgadiKatse/Other-Machine-Learning/blob/main/Unsupervised_Learning_SOM.ipynb\" target=\"_parent\"><img src=\"https://colab.research.google.com/assets/colab-badge.svg\" alt=\"Open In Colab\"/></a>"
      ]
    },
    {
      "cell_type": "code",
      "execution_count": null,
      "metadata": {
        "id": "otzzNfD_TBSs"
      },
      "outputs": [],
      "source": [
        "import numpy as np\n",
        "import pandas as pd\n",
        "import matplotlib.pyplot as plt\n",
        "import random"
      ]
    },
    {
      "cell_type": "code",
      "source": [
        "red = random.randint(0,255)\n",
        "green = random.randint(0,255)\n",
        "blue = random.randint(0,255)\n",
        "\n",
        "rgb = [red,green,blue]"
      ],
      "metadata": {
        "id": "P2PDsA2Iet-H"
      },
      "execution_count": null,
      "outputs": []
    },
    {
      "cell_type": "code",
      "source": [
        "# Dimensions of the SOM grid\n",
        "j_cols = 5\n",
        "k_rows = 5\n",
        "\n",
        "# Number of training examples\n",
        "n_x = 3000\n",
        "rand = np.random.RandomState(1)\n",
        "\n",
        "# Initialize the training data\n",
        "train_data = rand.randint(0, 255, (n_x, 3))\n",
        "\n",
        "# Initialize the SOM randomly\n",
        "som_map = (256 - 0) * np.random.random_sample(size=(k_rows,j_cols,3)) + 0\n",
        "som_map = som_map.astype(int)\n",
        "\n",
        "# Display both the training matrix and the SOM grid\n",
        "fig, ax = plt.subplots(\n",
        "    nrows=1, ncols=2, figsize=(15, 8),\n",
        "    subplot_kw=dict(xticks=[], yticks=[]))\n",
        "ax[0].imshow(train_data.reshape(50, 60, 3))\n",
        "ax[0].title.set_text('Training Data')\n",
        "ax[1].imshow(som_map)\n",
        "ax[1].title.set_text('Randomly Initialized SOM Grid of\\n Dimensions: J=5 & K=5')"
      ],
      "metadata": {
        "colab": {
          "base_uri": "https://localhost:8080/",
          "height": 446
        },
        "id": "X6NSCMHZdcWr",
        "outputId": "f684b7fb-b276-4363-94c6-46c4ba81a5ac"
      },
      "execution_count": null,
      "outputs": [
        {
          "output_type": "display_data",
          "data": {
            "text/plain": [
              "<Figure size 1080x576 with 2 Axes>"
            ],
            "image/png": "[encoded data removed]"
          },
          "metadata": {}
        }
      ]
    },
    {
      "cell_type": "code",
      "source": [
        "som_map"
      ],
      "metadata": {
        "id": "ieCXm3ykpyOi",
        "colab": {
          "base_uri": "https://localhost:8080/"
        },
        "outputId": "463d3f90-6989-4e53-d385-28e2dba1b0df"
      },
      "execution_count": null,
      "outputs": [
        {
          "output_type": "execute_result",
          "data": {
            "text/plain": [
              "array([[[174, 149, 171],\n",
              "        [226, 209,  90],\n",
              "        [ 24, 228, 247],\n",
              "        [ 89,  87, 212],\n",
              "        [ 91,  91, 155]],\n",
              "\n",
              "       [[171, 240, 171],\n",
              "        [150, 173,  59],\n",
              "        [130,  82, 255],\n",
              "        [ 98, 194, 251],\n",
              "        [192,  40, 139]],\n",
              "\n",
              "       [[240, 207, 106],\n",
              "        [193, 155,   7],\n",
              "        [210, 210,  34],\n",
              "        [ 38,  99,  91],\n",
              "        [188, 169,   5]],\n",
              "\n",
              "       [[217,  20,  81],\n",
              "        [243, 123,  67],\n",
              "        [213, 138,  22],\n",
              "        [252, 120,  66],\n",
              "        [ 17,  86,  28]],\n",
              "\n",
              "       [[ 31, 247, 250],\n",
              "        [109, 169, 176],\n",
              "        [ 63, 221,  87],\n",
              "        [ 35,   8,  41],\n",
              "        [132,  78, 150]]])"
            ]
          },
          "metadata": {},
          "execution_count": 40
        }
      ]
    },
    {
      "cell_type": "markdown",
      "source": [
        "\n",
        "Determining winning neuron"
      ],
      "metadata": {
        "id": "IjMEE14RpqwG"
      }
    },
    {
      "cell_type": "code",
      "source": [
        "from google.colab import drive\n",
        "drive.mount('/content/drive')"
      ],
      "metadata": {
        "colab": {
          "base_uri": "https://localhost:8080/"
        },
        "id": "TiQXjbBvpaFy",
        "outputId": "73149f99-6039-42df-976b-c285eabb3dcb"
      },
      "execution_count": null,
      "outputs": [
        {
          "output_type": "stream",
          "name": "stdout",
          "text": [
            "Mounted at /content/drive\n"
          ]
        }
      ]
    },
    {
      "cell_type": "code",
      "source": [
        "# load the dataset with pandas read_csv function\n",
        "som_df = pd.read_csv('/content/drive/My Drive/Colab Notebooks/applied machine learning/som_weight_values.csv')"
      ],
      "metadata": {
        "id": "0Brqphgtp3Bj"
      },
      "execution_count": null,
      "outputs": []
    },
    {
      "cell_type": "code",
      "source": [
        "som_df"
      ],
      "metadata": {
        "colab": {
          "base_uri": "https://localhost:8080/",
          "height": 206
        },
        "id": "Wuau3mu0p-pN",
        "outputId": "99d6c86b-6b82-4bc9-dc03-2188d7dcefa2"
      },
      "execution_count": null,
      "outputs": [
        {
          "output_type": "execute_result",
          "data": {
            "text/plain": [
              "      Column 1    Column 2     Column 3     Column 4     Column 5\n",
              "0  244,179,201   186,42,57   252,73,127   63,137,134    21,238,33\n",
              "1   102,139,71    27,82,98   135,55,147     87,30,55  175,166,238\n",
              "2    133,0,143   43,88,249     44,82,61  146,129,216    208,23,70\n",
              "3   251,175,27  233,84,244     35,53,64  159,169,126   169,19,212\n",
              "4  131,154,160  64,174,199  117,171,100  106,215,221    125,103,7"
            ],
            "text/html": [
              "\n",
              "  <div id=\"df-0c3e1d71-15e5-4b5a-981e-38ee4b1cdbaa\">\n",
              "    <div class=\"colab-df-container\">\n",
              "      <div>\n",
              "<style scoped>\n",
              "    .dataframe tbody tr th:only-of-type {\n",
              "        vertical-align: middle;\n",
              "    }\n",
              "\n",
              "    .dataframe tbody tr th {\n",
              "        vertical-align: top;\n",
              "    }\n",
              "\n",
              "    .dataframe thead th {\n",
              "        text-align: right;\n",
              "    }\n",
              "</style>\n",
              "<table border=\"1\" class=\"dataframe\">\n",
              "  <thead>\n",
              "    <tr style=\"text-align: right;\">\n",
              "      <th></th>\n",
              "      <th>Column 1</th>\n",
              "      <th>Column 2</th>\n",
              "      <th>Column 3</th>\n",
              "      <th>Column 4</th>\n",
              "      <th>Column 5</th>\n",
              "    </tr>\n",
              "  </thead>\n",
              "  <tbody>\n",
              "    <tr>\n",
              "      <th>0</th>\n",
              "      <td>244,179,201</td>\n",
              "      <td>186,42,57</td>\n",
              "      <td>252,73,127</td>\n",
              "      <td>63,137,134</td>\n",
              "      <td>21,238,33</td>\n",
              "    </tr>\n",
              "    <tr>\n",
              "      <th>1</th>\n",
              "      <td>102,139,71</td>\n",
              "      <td>27,82,98</td>\n",
              "      <td>135,55,147</td>\n",
              "      <td>87,30,55</td>\n",
              "      <td>175,166,238</td>\n",
              "    </tr>\n",
              "    <tr>\n",
              "      <th>2</th>\n",
              "      <td>133,0,143</td>\n",
              "      <td>43,88,249</td>\n",
              "      <td>44,82,61</td>\n",
              "      <td>146,129,216</td>\n",
              "      <td>208,23,70</td>\n",
              "    </tr>\n",
              "    <tr>\n",
              "      <th>3</th>\n",
              "      <td>251,175,27</td>\n",
              "      <td>233,84,244</td>\n",
              "      <td>35,53,64</td>\n",
              "      <td>159,169,126</td>\n",
              "      <td>169,19,212</td>\n",
              "    </tr>\n",
              "    <tr>\n",
              "      <th>4</th>\n",
              "      <td>131,154,160</td>\n",
              "      <td>64,174,199</td>\n",
              "      <td>117,171,100</td>\n",
              "      <td>106,215,221</td>\n",
              "      <td>125,103,7</td>\n",
              "    </tr>\n",
              "  </tbody>\n",
              "</table>\n",
              "</div>\n",
              "      <button class=\"colab-df-convert\" onclick=\"convertToInteractive('df-0c3e1d71-15e5-4b5a-981e-38ee4b1cdbaa')\"\n",
              "              title=\"Convert this dataframe to an interactive table.\"\n",
              "              style=\"display:none;\">\n",
              "        \n",
              "  <svg xmlns=\"http://www.w3.org/2000/svg\" height=\"24px\"viewBox=\"0 0 24 24\"\n",
              "       width=\"24px\">\n",
              "    <path d=\"M0 0h24v24H0V0z\" fill=\"none\"/>\n",
              "    <path d=\"M18.56 5.44l.94 2.06.94-2.06 2.06-.94-2.06-.94-.94-2.06-.94 2.06-2.06.94zm-11 1L8.5 8.5l.94-2.06 2.06-.94-2.06-.94L8.5 2.5l-.94 2.06-2.06.94zm10 10l.94 2.06.94-2.06 2.06-.94-2.06-.94-.94-2.06-.94 2.06-2.06.94z\"/><path d=\"M17.41 7.96l-1.37-1.37c-.4-.4-.92-.59-1.43-.59-.52 0-1.04.2-1.43.59L10.3 9.45l-7.72 7.72c-.78.78-.78 2.05 0 2.83L4 21.41c.39.39.9.59 1.41.59.51 0 1.02-.2 1.41-.59l7.78-7.78 2.81-2.81c.8-.78.8-2.07 0-2.86zM5.41 20L4 18.59l7.72-7.72 1.47 1.35L5.41 20z\"/>\n",
              "  </svg>\n",
              "      </button>\n",
              "      \n",
              "  <style>\n",
              "    .colab-df-container {\n",
              "      display:flex;\n",
              "      flex-wrap:wrap;\n",
              "      gap: 12px;\n",
              "    }\n",
              "\n",
              "    .colab-df-convert {\n",
              "      background-color: #E8F0FE;\n",
              "      border: none;\n",
              "      border-radius: 50%;\n",
              "      cursor: pointer;\n",
              "      display: none;\n",
              "      fill: #1967D2;\n",
              "      height: 32px;\n",
              "      padding: 0 0 0 0;\n",
              "      width: 32px;\n",
              "    }\n",
              "\n",
              "    .colab-df-convert:hover {\n",
              "      background-color: #E2EBFA;\n",
              "      box-shadow: 0px 1px 2px rgba(60, 64, 67, 0.3), 0px 1px 3px 1px rgba(60, 64, 67, 0.15);\n",
              "      fill: #174EA6;\n",
              "    }\n",
              "\n",
              "    [theme=dark] .colab-df-convert {\n",
              "      background-color: #3B4455;\n",
              "      fill: #D2E3FC;\n",
              "    }\n",
              "\n",
              "    [theme=dark] .colab-df-convert:hover {\n",
              "      background-color: #434B5C;\n",
              "      box-shadow: 0px 1px 3px 1px rgba(0, 0, 0, 0.15);\n",
              "      filter: drop-shadow(0px 1px 2px rgba(0, 0, 0, 0.3));\n",
              "      fill: #FFFFFF;\n",
              "    }\n",
              "  </style>\n",
              "\n",
              "      <script>\n",
              "        const buttonEl =\n",
              "          document.querySelector('#df-0c3e1d71-15e5-4b5a-981e-38ee4b1cdbaa button.colab-df-convert');\n",
              "        buttonEl.style.display =\n",
              "          google.colab.kernel.accessAllowed ? 'block' : 'none';\n",
              "\n",
              "        async function convertToInteractive(key) {\n",
              "          const element = document.querySelector('#df-0c3e1d71-15e5-4b5a-981e-38ee4b1cdbaa');\n",
              "          const dataTable =\n",
              "            await google.colab.kernel.invokeFunction('convertToInteractive',\n",
              "                                                     [key], {});\n",
              "          if (!dataTable) return;\n",
              "\n",
              "          const docLinkHtml = 'Like what you see? Visit the ' +\n",
              "            '<a target=\"_blank\" href=https://colab.research.google.com/notebooks/data_table.ipynb>data table notebook</a>'\n",
              "            + ' to learn more about interactive tables.';\n",
              "          element.innerHTML = '';\n",
              "          dataTable['output_type'] = 'display_data';\n",
              "          await google.colab.output.renderOutput(dataTable, element);\n",
              "          const docLink = document.createElement('div');\n",
              "          docLink.innerHTML = docLinkHtml;\n",
              "          element.appendChild(docLink);\n",
              "        }\n",
              "      </script>\n",
              "    </div>\n",
              "  </div>\n",
              "  "
            ]
          },
          "metadata": {},
          "execution_count": 49
        }
      ]
    },
    {
      "cell_type": "code",
      "source": [],
      "metadata": {
        "id": "iE6iSK3zqVHw"
      },
      "execution_count": null,
      "outputs": []
    }
  ]
}